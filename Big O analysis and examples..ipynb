{
 "cells": [
  {
   "cell_type": "markdown",
   "metadata": {},
   "source": [
    "## O(1) Constant\n"
   ]
  },
  {
   "cell_type": "code",
   "execution_count": 4,
   "metadata": {},
   "outputs": [
    {
     "name": "stdout",
     "output_type": "stream",
     "text": [
      "[23]\n"
     ]
    }
   ],
   "source": [
    "def func(values):\n",
    "    print(values[1])\n",
    "l=[1,[23]]         #always print 1st element of list\n",
    "func(l)"
   ]
  },
  {
   "cell_type": "code",
   "execution_count": 5,
   "metadata": {},
   "outputs": [
    {
     "name": "stdout",
     "output_type": "stream",
     "text": [
      "2\n",
      "3\n",
      "4\n",
      "5\n"
     ]
    }
   ],
   "source": [
    "def func(lst):\n",
    "    for val in lst:\n",
    "        print(val)\n",
    "l=[2,3,4,5]          #print all values in list, list of n values print n times, linear exmample\n",
    "func(l)"
   ]
  },
  {
   "cell_type": "code",
   "execution_count": 6,
   "metadata": {},
   "outputs": [
    {
     "name": "stdout",
     "output_type": "stream",
     "text": [
      "1 1\n",
      "1 2\n",
      "1 [3]\n",
      "1 4\n",
      "2 1\n",
      "2 2\n",
      "2 [3]\n",
      "2 4\n",
      "[3] 1\n",
      "[3] 2\n",
      "[3] [3]\n",
      "[3] 4\n",
      "4 1\n",
      "4 2\n",
      "4 [3]\n",
      "4 4\n"
     ]
    }
   ],
   "source": [
    "def fucn(lst):\n",
    "    for item1 in lst:\n",
    "        for item2 in lst:\n",
    "            print(item1,item2)\n",
    "l=[1,2,[3],4]          # n**2  print outs, not sutible for very large inputs, we need to be very aware of this, quadratic terms.\n",
    "fucn(l)"
   ]
  },
  {
   "cell_type": "code",
   "execution_count": 17,
   "metadata": {},
   "outputs": [
    {
     "name": "stdout",
     "output_type": "stream",
     "text": [
      "1\n",
      "1\n",
      "2\n",
      "3\n",
      "4\n",
      "hello\n",
      "hello\n",
      "hello\n",
      "hello\n",
      "hello\n",
      "hello\n",
      "hello\n",
      "hello\n",
      "hello\n",
      "hello\n"
     ]
    }
   ],
   "source": [
    "def comp(lst):\n",
    "    \n",
    "    print(lst[0])     #O(1)\n",
    "    \n",
    "    mid=len(lst)//2    #O(n/2)=O(1/2*n)      #use double slash to make it an int, for python3\n",
    "    \n",
    "    for val in lst[:mid]:\n",
    "        print (val)\n",
    "    for x in range(10):\n",
    "        print(\"hello\")    #O(10)\n",
    "lst=[1,2,3,4,4,6,7,8,10]\n",
    "comp(lst)"
   ]
  },
  {
   "cell_type": "code",
   "execution_count": 18,
   "metadata": {},
   "outputs": [],
   "source": [
    "#add all the O() to figure out entire big O, as n grows larger, constants become insignificant, becomes ineffective.\n",
    "#O(1+n/2+10)==O(n)"
   ]
  },
  {
   "cell_type": "code",
   "execution_count": null,
   "metadata": {},
   "outputs": [],
   "source": [
    "#how much space an algorithm take?\n"
   ]
  },
  {
   "cell_type": "code",
   "execution_count": 19,
   "metadata": {},
   "outputs": [],
   "source": [
    "def create_lst(n):\n",
    "    new_list=[]\n",
    "    for num in range(n):\n",
    "        new_list.append('new')\n",
    "    return new_list"
   ]
  },
  {
   "cell_type": "code",
   "execution_count": 23,
   "metadata": {},
   "outputs": [
    {
     "data": {
      "text/plain": [
       "['new', 'new', 'new']"
      ]
     },
     "execution_count": 23,
     "metadata": {},
     "output_type": "execute_result"
    }
   ],
   "source": [
    "create_lst(3)"
   ]
  },
  {
   "cell_type": "code",
   "execution_count": 24,
   "metadata": {},
   "outputs": [],
   "source": [
    "#space and time complexity\n",
    "def j(num):                         #space complexity O(1)\n",
    "    #TIME COMPLEXITY(O(N))\n",
    "    for n in range(10):\n",
    "        print(\"hello\")"
   ]
  },
  {
   "cell_type": "code",
   "execution_count": 25,
   "metadata": {},
   "outputs": [
    {
     "name": "stdout",
     "output_type": "stream",
     "text": [
      "hello\n",
      "hello\n",
      "hello\n",
      "hello\n",
      "hello\n",
      "hello\n",
      "hello\n",
      "hello\n",
      "hello\n",
      "hello\n"
     ]
    }
   ],
   "source": [
    "j(10)"
   ]
  },
  {
   "cell_type": "code",
   "execution_count": null,
   "metadata": {},
   "outputs": [],
   "source": [
    "# big O for python data structures\n",
    "#List= dynamic array, "
   ]
  }
 ],
 "metadata": {
  "kernelspec": {
   "display_name": "Python 3",
   "language": "python",
   "name": "python3"
  },
  "language_info": {
   "codemirror_mode": {
    "name": "ipython",
    "version": 3
   },
   "file_extension": ".py",
   "mimetype": "text/x-python",
   "name": "python",
   "nbconvert_exporter": "python",
   "pygments_lexer": "ipython3",
   "version": "3.7.4"
  }
 },
 "nbformat": 4,
 "nbformat_minor": 2
}
